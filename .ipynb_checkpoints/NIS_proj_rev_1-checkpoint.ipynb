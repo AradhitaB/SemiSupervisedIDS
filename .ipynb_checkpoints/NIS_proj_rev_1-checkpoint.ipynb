{
 "cells": [
  {
   "cell_type": "code",
   "execution_count": null,
   "metadata": {
    "id": "ySLxsJHMfnet"
   },
   "outputs": [],
   "source": []
  },
  {
   "cell_type": "markdown",
   "metadata": {
    "id": "INRSiwMsdE-R"
   },
   "source": [
    "Adaboost implementation"
   ]
  },
  {
   "cell_type": "code",
   "execution_count": 1,
   "metadata": {
    "id": "18bqRIzMdA_o"
   },
   "outputs": [],
   "source": [
    "%matplotlib inline"
   ]
  },
  {
   "cell_type": "code",
   "execution_count": 2,
   "metadata": {
    "id": "GCIBpVqrdTVt"
   },
   "outputs": [],
   "source": [
    "#import all necessary libraries\n",
    "import pandas as pd\n",
    "import numpy as np\n",
    "import matplotlib as mp\n",
    "from sklearn.model_selection import train_test_split\n",
    "from sklearn.model_selection import StratifiedShuffleSplit\n",
    "from sklearn.preprocessing import LabelEncoder\n",
    "from pandas.plotting import scatter_matrix"
   ]
  },
  {
   "cell_type": "code",
   "execution_count": 3,
   "metadata": {
    "id": "Vtl9Wh4Idgfi"
   },
   "outputs": [],
   "source": [
    "ds = pd.read_csv(\"/content/UNSW_NB15_training-set.csv\")"
   ]
  },
  {
   "cell_type": "code",
   "execution_count": 4,
   "metadata": {
    "colab": {
     "base_uri": "https://localhost:8080/",
     "height": 224
    },
    "id": "xtbng9y-eGUD",
    "outputId": "b8c12ab9-b3ac-4254-e786-4a2368032892"
   },
   "outputs": [
    {
     "data": {
      "text/html": [
       "<div>\n",
       "<style scoped>\n",
       "    .dataframe tbody tr th:only-of-type {\n",
       "        vertical-align: middle;\n",
       "    }\n",
       "\n",
       "    .dataframe tbody tr th {\n",
       "        vertical-align: top;\n",
       "    }\n",
       "\n",
       "    .dataframe thead th {\n",
       "        text-align: right;\n",
       "    }\n",
       "</style>\n",
       "<table border=\"1\" class=\"dataframe\">\n",
       "  <thead>\n",
       "    <tr style=\"text-align: right;\">\n",
       "      <th></th>\n",
       "      <th>id</th>\n",
       "      <th>dur</th>\n",
       "      <th>proto</th>\n",
       "      <th>service</th>\n",
       "      <th>state</th>\n",
       "      <th>spkts</th>\n",
       "      <th>dpkts</th>\n",
       "      <th>sbytes</th>\n",
       "      <th>dbytes</th>\n",
       "      <th>rate</th>\n",
       "      <th>sttl</th>\n",
       "      <th>dttl</th>\n",
       "      <th>sload</th>\n",
       "      <th>dload</th>\n",
       "      <th>sloss</th>\n",
       "      <th>dloss</th>\n",
       "      <th>sinpkt</th>\n",
       "      <th>dinpkt</th>\n",
       "      <th>sjit</th>\n",
       "      <th>djit</th>\n",
       "      <th>swin</th>\n",
       "      <th>stcpb</th>\n",
       "      <th>dtcpb</th>\n",
       "      <th>dwin</th>\n",
       "      <th>tcprtt</th>\n",
       "      <th>synack</th>\n",
       "      <th>ackdat</th>\n",
       "      <th>smean</th>\n",
       "      <th>dmean</th>\n",
       "      <th>trans_depth</th>\n",
       "      <th>response_body_len</th>\n",
       "      <th>ct_srv_src</th>\n",
       "      <th>ct_state_ttl</th>\n",
       "      <th>ct_dst_ltm</th>\n",
       "      <th>ct_src_dport_ltm</th>\n",
       "      <th>ct_dst_sport_ltm</th>\n",
       "      <th>ct_dst_src_ltm</th>\n",
       "      <th>is_ftp_login</th>\n",
       "      <th>ct_ftp_cmd</th>\n",
       "      <th>ct_flw_http_mthd</th>\n",
       "      <th>ct_src_ltm</th>\n",
       "      <th>ct_srv_dst</th>\n",
       "      <th>is_sm_ips_ports</th>\n",
       "      <th>attack_cat</th>\n",
       "      <th>label</th>\n",
       "    </tr>\n",
       "  </thead>\n",
       "  <tbody>\n",
       "    <tr>\n",
       "      <th>0</th>\n",
       "      <td>1</td>\n",
       "      <td>0.121478</td>\n",
       "      <td>tcp</td>\n",
       "      <td>-</td>\n",
       "      <td>FIN</td>\n",
       "      <td>6</td>\n",
       "      <td>4</td>\n",
       "      <td>258</td>\n",
       "      <td>172</td>\n",
       "      <td>74.087490</td>\n",
       "      <td>252</td>\n",
       "      <td>254</td>\n",
       "      <td>14158.942380</td>\n",
       "      <td>8495.365234</td>\n",
       "      <td>0</td>\n",
       "      <td>0</td>\n",
       "      <td>24.295600</td>\n",
       "      <td>8.375000</td>\n",
       "      <td>30.177547</td>\n",
       "      <td>11.830604</td>\n",
       "      <td>255</td>\n",
       "      <td>621772692</td>\n",
       "      <td>2202533631</td>\n",
       "      <td>255</td>\n",
       "      <td>0.000000</td>\n",
       "      <td>0.000000</td>\n",
       "      <td>0.000000</td>\n",
       "      <td>43</td>\n",
       "      <td>43</td>\n",
       "      <td>0</td>\n",
       "      <td>0</td>\n",
       "      <td>1</td>\n",
       "      <td>0</td>\n",
       "      <td>1</td>\n",
       "      <td>1</td>\n",
       "      <td>1</td>\n",
       "      <td>1</td>\n",
       "      <td>0</td>\n",
       "      <td>0</td>\n",
       "      <td>0</td>\n",
       "      <td>1</td>\n",
       "      <td>1</td>\n",
       "      <td>0</td>\n",
       "      <td>Normal</td>\n",
       "      <td>0</td>\n",
       "    </tr>\n",
       "    <tr>\n",
       "      <th>1</th>\n",
       "      <td>2</td>\n",
       "      <td>0.649902</td>\n",
       "      <td>tcp</td>\n",
       "      <td>-</td>\n",
       "      <td>FIN</td>\n",
       "      <td>14</td>\n",
       "      <td>38</td>\n",
       "      <td>734</td>\n",
       "      <td>42014</td>\n",
       "      <td>78.473372</td>\n",
       "      <td>62</td>\n",
       "      <td>252</td>\n",
       "      <td>8395.112305</td>\n",
       "      <td>503571.312500</td>\n",
       "      <td>2</td>\n",
       "      <td>17</td>\n",
       "      <td>49.915000</td>\n",
       "      <td>15.432865</td>\n",
       "      <td>61.426934</td>\n",
       "      <td>1387.778330</td>\n",
       "      <td>255</td>\n",
       "      <td>1417884146</td>\n",
       "      <td>3077387971</td>\n",
       "      <td>255</td>\n",
       "      <td>0.000000</td>\n",
       "      <td>0.000000</td>\n",
       "      <td>0.000000</td>\n",
       "      <td>52</td>\n",
       "      <td>1106</td>\n",
       "      <td>0</td>\n",
       "      <td>0</td>\n",
       "      <td>43</td>\n",
       "      <td>1</td>\n",
       "      <td>1</td>\n",
       "      <td>1</td>\n",
       "      <td>1</td>\n",
       "      <td>2</td>\n",
       "      <td>0</td>\n",
       "      <td>0</td>\n",
       "      <td>0</td>\n",
       "      <td>1</td>\n",
       "      <td>6</td>\n",
       "      <td>0</td>\n",
       "      <td>Normal</td>\n",
       "      <td>0</td>\n",
       "    </tr>\n",
       "    <tr>\n",
       "      <th>2</th>\n",
       "      <td>3</td>\n",
       "      <td>1.623129</td>\n",
       "      <td>tcp</td>\n",
       "      <td>-</td>\n",
       "      <td>FIN</td>\n",
       "      <td>8</td>\n",
       "      <td>16</td>\n",
       "      <td>364</td>\n",
       "      <td>13186</td>\n",
       "      <td>14.170161</td>\n",
       "      <td>62</td>\n",
       "      <td>252</td>\n",
       "      <td>1572.271851</td>\n",
       "      <td>60929.230470</td>\n",
       "      <td>1</td>\n",
       "      <td>6</td>\n",
       "      <td>231.875571</td>\n",
       "      <td>102.737203</td>\n",
       "      <td>17179.586860</td>\n",
       "      <td>11420.926230</td>\n",
       "      <td>255</td>\n",
       "      <td>2116150707</td>\n",
       "      <td>2963114973</td>\n",
       "      <td>255</td>\n",
       "      <td>0.111897</td>\n",
       "      <td>0.061458</td>\n",
       "      <td>0.050439</td>\n",
       "      <td>46</td>\n",
       "      <td>824</td>\n",
       "      <td>0</td>\n",
       "      <td>0</td>\n",
       "      <td>7</td>\n",
       "      <td>1</td>\n",
       "      <td>2</td>\n",
       "      <td>1</td>\n",
       "      <td>1</td>\n",
       "      <td>3</td>\n",
       "      <td>0</td>\n",
       "      <td>0</td>\n",
       "      <td>0</td>\n",
       "      <td>2</td>\n",
       "      <td>6</td>\n",
       "      <td>0</td>\n",
       "      <td>Normal</td>\n",
       "      <td>0</td>\n",
       "    </tr>\n",
       "    <tr>\n",
       "      <th>3</th>\n",
       "      <td>4</td>\n",
       "      <td>1.681642</td>\n",
       "      <td>tcp</td>\n",
       "      <td>ftp</td>\n",
       "      <td>FIN</td>\n",
       "      <td>12</td>\n",
       "      <td>12</td>\n",
       "      <td>628</td>\n",
       "      <td>770</td>\n",
       "      <td>13.677108</td>\n",
       "      <td>62</td>\n",
       "      <td>252</td>\n",
       "      <td>2740.178955</td>\n",
       "      <td>3358.622070</td>\n",
       "      <td>1</td>\n",
       "      <td>3</td>\n",
       "      <td>152.876547</td>\n",
       "      <td>90.235726</td>\n",
       "      <td>259.080172</td>\n",
       "      <td>4991.784669</td>\n",
       "      <td>255</td>\n",
       "      <td>1107119177</td>\n",
       "      <td>1047442890</td>\n",
       "      <td>255</td>\n",
       "      <td>0.000000</td>\n",
       "      <td>0.000000</td>\n",
       "      <td>0.000000</td>\n",
       "      <td>52</td>\n",
       "      <td>64</td>\n",
       "      <td>0</td>\n",
       "      <td>0</td>\n",
       "      <td>1</td>\n",
       "      <td>1</td>\n",
       "      <td>2</td>\n",
       "      <td>1</td>\n",
       "      <td>1</td>\n",
       "      <td>3</td>\n",
       "      <td>1</td>\n",
       "      <td>1</td>\n",
       "      <td>0</td>\n",
       "      <td>2</td>\n",
       "      <td>1</td>\n",
       "      <td>0</td>\n",
       "      <td>Normal</td>\n",
       "      <td>0</td>\n",
       "    </tr>\n",
       "    <tr>\n",
       "      <th>4</th>\n",
       "      <td>5</td>\n",
       "      <td>0.449454</td>\n",
       "      <td>tcp</td>\n",
       "      <td>-</td>\n",
       "      <td>FIN</td>\n",
       "      <td>10</td>\n",
       "      <td>6</td>\n",
       "      <td>534</td>\n",
       "      <td>268</td>\n",
       "      <td>33.373826</td>\n",
       "      <td>254</td>\n",
       "      <td>252</td>\n",
       "      <td>8561.499023</td>\n",
       "      <td>3987.059814</td>\n",
       "      <td>2</td>\n",
       "      <td>1</td>\n",
       "      <td>47.750333</td>\n",
       "      <td>75.659602</td>\n",
       "      <td>2415.837634</td>\n",
       "      <td>115.807000</td>\n",
       "      <td>255</td>\n",
       "      <td>2436137549</td>\n",
       "      <td>1977154190</td>\n",
       "      <td>255</td>\n",
       "      <td>0.128381</td>\n",
       "      <td>0.071147</td>\n",
       "      <td>0.057234</td>\n",
       "      <td>53</td>\n",
       "      <td>45</td>\n",
       "      <td>0</td>\n",
       "      <td>0</td>\n",
       "      <td>43</td>\n",
       "      <td>1</td>\n",
       "      <td>2</td>\n",
       "      <td>2</td>\n",
       "      <td>1</td>\n",
       "      <td>40</td>\n",
       "      <td>0</td>\n",
       "      <td>0</td>\n",
       "      <td>0</td>\n",
       "      <td>2</td>\n",
       "      <td>39</td>\n",
       "      <td>0</td>\n",
       "      <td>Normal</td>\n",
       "      <td>0</td>\n",
       "    </tr>\n",
       "  </tbody>\n",
       "</table>\n",
       "</div>"
      ],
      "text/plain": [
       "   id       dur proto service  ... ct_srv_dst  is_sm_ips_ports  attack_cat  label\n",
       "0   1  0.121478   tcp       -  ...          1                0      Normal      0\n",
       "1   2  0.649902   tcp       -  ...          6                0      Normal      0\n",
       "2   3  1.623129   tcp       -  ...          6                0      Normal      0\n",
       "3   4  1.681642   tcp     ftp  ...          1                0      Normal      0\n",
       "4   5  0.449454   tcp       -  ...         39                0      Normal      0\n",
       "\n",
       "[5 rows x 45 columns]"
      ]
     },
     "execution_count": 4,
     "metadata": {
      "tags": []
     },
     "output_type": "execute_result"
    }
   ],
   "source": [
    "ds.head()"
   ]
  },
  {
   "cell_type": "code",
   "execution_count": 5,
   "metadata": {
    "colab": {
     "base_uri": "https://localhost:8080/"
    },
    "id": "OWZOGPeXeYZO",
    "outputId": "42234b78-dc26-4db3-deef-489ddcc029a7"
   },
   "outputs": [
    {
     "name": "stdout",
     "output_type": "stream",
     "text": [
      "<class 'pandas.core.frame.DataFrame'>\n",
      "RangeIndex: 175341 entries, 0 to 175340\n",
      "Data columns (total 45 columns):\n",
      " #   Column             Non-Null Count   Dtype  \n",
      "---  ------             --------------   -----  \n",
      " 0   id                 175341 non-null  int64  \n",
      " 1   dur                175341 non-null  float64\n",
      " 2   proto              175341 non-null  object \n",
      " 3   service            175341 non-null  object \n",
      " 4   state              175341 non-null  object \n",
      " 5   spkts              175341 non-null  int64  \n",
      " 6   dpkts              175341 non-null  int64  \n",
      " 7   sbytes             175341 non-null  int64  \n",
      " 8   dbytes             175341 non-null  int64  \n",
      " 9   rate               175341 non-null  float64\n",
      " 10  sttl               175341 non-null  int64  \n",
      " 11  dttl               175341 non-null  int64  \n",
      " 12  sload              175341 non-null  float64\n",
      " 13  dload              175341 non-null  float64\n",
      " 14  sloss              175341 non-null  int64  \n",
      " 15  dloss              175341 non-null  int64  \n",
      " 16  sinpkt             175341 non-null  float64\n",
      " 17  dinpkt             175341 non-null  float64\n",
      " 18  sjit               175341 non-null  float64\n",
      " 19  djit               175341 non-null  float64\n",
      " 20  swin               175341 non-null  int64  \n",
      " 21  stcpb              175341 non-null  int64  \n",
      " 22  dtcpb              175341 non-null  int64  \n",
      " 23  dwin               175341 non-null  int64  \n",
      " 24  tcprtt             175341 non-null  float64\n",
      " 25  synack             175341 non-null  float64\n",
      " 26  ackdat             175341 non-null  float64\n",
      " 27  smean              175341 non-null  int64  \n",
      " 28  dmean              175341 non-null  int64  \n",
      " 29  trans_depth        175341 non-null  int64  \n",
      " 30  response_body_len  175341 non-null  int64  \n",
      " 31  ct_srv_src         175341 non-null  int64  \n",
      " 32  ct_state_ttl       175341 non-null  int64  \n",
      " 33  ct_dst_ltm         175341 non-null  int64  \n",
      " 34  ct_src_dport_ltm   175341 non-null  int64  \n",
      " 35  ct_dst_sport_ltm   175341 non-null  int64  \n",
      " 36  ct_dst_src_ltm     175341 non-null  int64  \n",
      " 37  is_ftp_login       175341 non-null  int64  \n",
      " 38  ct_ftp_cmd         175341 non-null  int64  \n",
      " 39  ct_flw_http_mthd   175341 non-null  int64  \n",
      " 40  ct_src_ltm         175341 non-null  int64  \n",
      " 41  ct_srv_dst         175341 non-null  int64  \n",
      " 42  is_sm_ips_ports    175341 non-null  int64  \n",
      " 43  attack_cat         175341 non-null  object \n",
      " 44  label              175341 non-null  int64  \n",
      "dtypes: float64(11), int64(30), object(4)\n",
      "memory usage: 60.2+ MB\n"
     ]
    }
   ],
   "source": [
    "ds.info()"
   ]
  },
  {
   "cell_type": "code",
   "execution_count": 6,
   "metadata": {
    "colab": {
     "base_uri": "https://localhost:8080/"
    },
    "id": "l_pnOswpeiF5",
    "outputId": "e9720b4f-85ce-4d87-bf8a-420c50193ff7"
   },
   "outputs": [
    {
     "data": {
      "text/plain": [
       "Normal            56000\n",
       "Generic           40000\n",
       "Exploits          33393\n",
       "Fuzzers           18184\n",
       "DoS               12264\n",
       "Reconnaissance    10491\n",
       "Analysis           2000\n",
       "Backdoor           1746\n",
       "Shellcode          1133\n",
       "Worms               130\n",
       "Name: attack_cat, dtype: int64"
      ]
     },
     "execution_count": 6,
     "metadata": {
      "tags": []
     },
     "output_type": "execute_result"
    }
   ],
   "source": [
    "ds['attack_cat'].value_counts()"
   ]
  },
  {
   "cell_type": "code",
   "execution_count": 7,
   "metadata": {
    "colab": {
     "base_uri": "https://localhost:8080/"
    },
    "id": "WgAdMHzrfz7O",
    "outputId": "572e8db4-419f-42a9-b841-421a4c81d8ff"
   },
   "outputs": [
    {
     "data": {
      "text/plain": [
       "tcp       79946\n",
       "udp       63283\n",
       "unas      12084\n",
       "arp        2859\n",
       "ospf       2595\n",
       "          ...  \n",
       "hmp          98\n",
       "netblt       98\n",
       "igmp         18\n",
       "icmp         15\n",
       "rtp           1\n",
       "Name: proto, Length: 133, dtype: int64"
      ]
     },
     "execution_count": 7,
     "metadata": {
      "tags": []
     },
     "output_type": "execute_result"
    }
   ],
   "source": [
    "ds['proto'].value_counts()"
   ]
  },
  {
   "cell_type": "code",
   "execution_count": 8,
   "metadata": {
    "colab": {
     "base_uri": "https://localhost:8080/"
    },
    "id": "azYzKhFMgEZw",
    "outputId": "c669fcf2-4d92-4daf-da3c-455ad94a667b"
   },
   "outputs": [
    {
     "data": {
      "text/plain": [
       "-           94168\n",
       "dns         47294\n",
       "http        18724\n",
       "smtp         5058\n",
       "ftp-data     3995\n",
       "ftp          3428\n",
       "ssh          1302\n",
       "pop3         1105\n",
       "dhcp           94\n",
       "snmp           80\n",
       "ssl            56\n",
       "irc            25\n",
       "radius         12\n",
       "Name: service, dtype: int64"
      ]
     },
     "execution_count": 8,
     "metadata": {
      "tags": []
     },
     "output_type": "execute_result"
    }
   ],
   "source": [
    "ds['service'].value_counts()"
   ]
  },
  {
   "cell_type": "code",
   "execution_count": 9,
   "metadata": {
    "colab": {
     "base_uri": "https://localhost:8080/"
    },
    "id": "jIF9kz2igMNx",
    "outputId": "9c543f53-9e9c-40de-d3b3-1866cb46808e"
   },
   "outputs": [
    {
     "data": {
      "text/plain": [
       "INT    82275\n",
       "FIN    77825\n",
       "CON    13152\n",
       "REQ     1991\n",
       "RST       83\n",
       "ECO       12\n",
       "no         1\n",
       "PAR        1\n",
       "URN        1\n",
       "Name: state, dtype: int64"
      ]
     },
     "execution_count": 9,
     "metadata": {
      "tags": []
     },
     "output_type": "execute_result"
    }
   ],
   "source": [
    "ds['state'].value_counts()"
   ]
  },
  {
   "cell_type": "code",
   "execution_count": 10,
   "metadata": {
    "id": "Oaj2bFvKgSBb"
   },
   "outputs": [],
   "source": [
    "label = LabelEncoder()\n",
    "ds['attack_cat']=label.fit_transform(ds['attack_cat'])\n",
    "ds['proto']=label.fit_transform(ds['proto'])\n",
    "ds['service']=label.fit_transform(ds['service'])\n",
    "ds['state']=label.fit_transform(ds['state'])"
   ]
  },
  {
   "cell_type": "code",
   "execution_count": 11,
   "metadata": {
    "colab": {
     "base_uri": "https://localhost:8080/"
    },
    "id": "I2Csghsrgwd-",
    "outputId": "5bec74e3-f2ec-41f0-baf4-f3d545a61795"
   },
   "outputs": [
    {
     "name": "stdout",
     "output_type": "stream",
     "text": [
      "<class 'pandas.core.frame.DataFrame'>\n",
      "RangeIndex: 175341 entries, 0 to 175340\n",
      "Data columns (total 45 columns):\n",
      " #   Column             Non-Null Count   Dtype  \n",
      "---  ------             --------------   -----  \n",
      " 0   id                 175341 non-null  int64  \n",
      " 1   dur                175341 non-null  float64\n",
      " 2   proto              175341 non-null  int64  \n",
      " 3   service            175341 non-null  int64  \n",
      " 4   state              175341 non-null  int64  \n",
      " 5   spkts              175341 non-null  int64  \n",
      " 6   dpkts              175341 non-null  int64  \n",
      " 7   sbytes             175341 non-null  int64  \n",
      " 8   dbytes             175341 non-null  int64  \n",
      " 9   rate               175341 non-null  float64\n",
      " 10  sttl               175341 non-null  int64  \n",
      " 11  dttl               175341 non-null  int64  \n",
      " 12  sload              175341 non-null  float64\n",
      " 13  dload              175341 non-null  float64\n",
      " 14  sloss              175341 non-null  int64  \n",
      " 15  dloss              175341 non-null  int64  \n",
      " 16  sinpkt             175341 non-null  float64\n",
      " 17  dinpkt             175341 non-null  float64\n",
      " 18  sjit               175341 non-null  float64\n",
      " 19  djit               175341 non-null  float64\n",
      " 20  swin               175341 non-null  int64  \n",
      " 21  stcpb              175341 non-null  int64  \n",
      " 22  dtcpb              175341 non-null  int64  \n",
      " 23  dwin               175341 non-null  int64  \n",
      " 24  tcprtt             175341 non-null  float64\n",
      " 25  synack             175341 non-null  float64\n",
      " 26  ackdat             175341 non-null  float64\n",
      " 27  smean              175341 non-null  int64  \n",
      " 28  dmean              175341 non-null  int64  \n",
      " 29  trans_depth        175341 non-null  int64  \n",
      " 30  response_body_len  175341 non-null  int64  \n",
      " 31  ct_srv_src         175341 non-null  int64  \n",
      " 32  ct_state_ttl       175341 non-null  int64  \n",
      " 33  ct_dst_ltm         175341 non-null  int64  \n",
      " 34  ct_src_dport_ltm   175341 non-null  int64  \n",
      " 35  ct_dst_sport_ltm   175341 non-null  int64  \n",
      " 36  ct_dst_src_ltm     175341 non-null  int64  \n",
      " 37  is_ftp_login       175341 non-null  int64  \n",
      " 38  ct_ftp_cmd         175341 non-null  int64  \n",
      " 39  ct_flw_http_mthd   175341 non-null  int64  \n",
      " 40  ct_src_ltm         175341 non-null  int64  \n",
      " 41  ct_srv_dst         175341 non-null  int64  \n",
      " 42  is_sm_ips_ports    175341 non-null  int64  \n",
      " 43  attack_cat         175341 non-null  int64  \n",
      " 44  label              175341 non-null  int64  \n",
      "dtypes: float64(11), int64(34)\n",
      "memory usage: 60.2 MB\n"
     ]
    }
   ],
   "source": [
    "ds.info()"
   ]
  },
  {
   "cell_type": "code",
   "execution_count": 12,
   "metadata": {
    "colab": {
     "base_uri": "https://localhost:8080/"
    },
    "id": "EJ5NdEv3g09a",
    "outputId": "7b424498-22f9-4440-9f9c-b8198907b489"
   },
   "outputs": [
    {
     "data": {
      "text/plain": [
       "6    56000\n",
       "5    40000\n",
       "3    33393\n",
       "4    18184\n",
       "2    12264\n",
       "7    10491\n",
       "0     2000\n",
       "1     1746\n",
       "8     1133\n",
       "9      130\n",
       "Name: attack_cat, dtype: int64"
      ]
     },
     "execution_count": 12,
     "metadata": {
      "tags": []
     },
     "output_type": "execute_result"
    }
   ],
   "source": [
    "ds['attack_cat'].value_counts()"
   ]
  },
  {
   "cell_type": "code",
   "execution_count": 13,
   "metadata": {
    "colab": {
     "base_uri": "https://localhost:8080/"
    },
    "id": "7tHf7ydRjhEr",
    "outputId": "f5d4e792-32b5-454d-b179-0dae6192f50a"
   },
   "outputs": [
    {
     "name": "stdout",
     "output_type": "stream",
     "text": [
      "train: 140272\n",
      "test: 35069\n"
     ]
    }
   ],
   "source": [
    "## Splitting the data \n",
    "train_set, test_set = train_test_split(ds, test_size=0.2, random_state=42)\n",
    "print(f\"train: {len(train_set)}\\ntest: {len(test_set)}\")"
   ]
  },
  {
   "cell_type": "code",
   "execution_count": 14,
   "metadata": {
    "colab": {
     "base_uri": "https://localhost:8080/"
    },
    "id": "7vPStIjLjtA-",
    "outputId": "e9585177-7f8d-4d89-df66-4b414b7d859a"
   },
   "outputs": [
    {
     "data": {
      "text/plain": [
       "6    44831\n",
       "5    31921\n",
       "3    26621\n",
       "4    14614\n",
       "2     9894\n",
       "7     8393\n",
       "0     1607\n",
       "1     1386\n",
       "8      900\n",
       "9      105\n",
       "Name: attack_cat, dtype: int64"
      ]
     },
     "execution_count": 14,
     "metadata": {
      "tags": []
     },
     "output_type": "execute_result"
    }
   ],
   "source": [
    "train_set['attack_cat'].value_counts()"
   ]
  },
  {
   "cell_type": "code",
   "execution_count": 15,
   "metadata": {
    "colab": {
     "base_uri": "https://localhost:8080/"
    },
    "id": "c7mJrZPRj1QN",
    "outputId": "c69cea10-d2bb-43d1-d306-c62d01e95987"
   },
   "outputs": [
    {
     "data": {
      "text/plain": [
       "6    11169\n",
       "5     8079\n",
       "3     6772\n",
       "4     3570\n",
       "2     2370\n",
       "7     2098\n",
       "0      393\n",
       "1      360\n",
       "8      233\n",
       "9       25\n",
       "Name: attack_cat, dtype: int64"
      ]
     },
     "execution_count": 15,
     "metadata": {
      "tags": []
     },
     "output_type": "execute_result"
    }
   ],
   "source": [
    "test_set['attack_cat'].value_counts()"
   ]
  },
  {
   "cell_type": "code",
   "execution_count": 16,
   "metadata": {
    "id": "UqwNwdxgj4WZ"
   },
   "outputs": [],
   "source": [
    "weather=train_set.copy()"
   ]
  },
  {
   "cell_type": "code",
   "execution_count": 17,
   "metadata": {
    "id": "dBIGQusEkQ2V"
   },
   "outputs": [],
   "source": [
    "corr_matrix = weather.corr()"
   ]
  },
  {
   "cell_type": "code",
   "execution_count": 18,
   "metadata": {
    "colab": {
     "base_uri": "https://localhost:8080/"
    },
    "id": "i1MYgbhYkVYk",
    "outputId": "753f702b-1782-43a3-f6b3-20ce6da8dd02"
   },
   "outputs": [
    {
     "data": {
      "text/plain": [
       "attack_cat           1.000000\n",
       "dload                0.225937\n",
       "proto                0.177804\n",
       "ct_srv_src           0.133464\n",
       "ct_srv_dst           0.129823\n",
       "ct_dst_ltm           0.127037\n",
       "swin                 0.117293\n",
       "dmean                0.110457\n",
       "dwin                 0.108905\n",
       "is_sm_ips_ports      0.107147\n",
       "sinpkt               0.099659\n",
       "stcpb                0.087811\n",
       "dtcpb                0.085051\n",
       "ct_src_dport_ltm     0.084993\n",
       "ct_src_ltm           0.084315\n",
       "ct_dst_src_ltm       0.070487\n",
       "ct_dst_sport_ltm     0.064931\n",
       "dpkts                0.035845\n",
       "dloss                0.027359\n",
       "dbytes               0.021776\n",
       "dinpkt               0.006696\n",
       "djit                 0.002647\n",
       "response_body_len    0.001091\n",
       "spkts               -0.006502\n",
       "sjit                -0.008510\n",
       "sloss               -0.030470\n",
       "sbytes              -0.039620\n",
       "is_ftp_login        -0.039783\n",
       "ct_ftp_cmd          -0.039783\n",
       "trans_depth         -0.048943\n",
       "service             -0.054532\n",
       "synack              -0.092513\n",
       "dur                 -0.097740\n",
       "smean               -0.100689\n",
       "tcprtt              -0.111005\n",
       "ct_flw_http_mthd    -0.112087\n",
       "sload               -0.114030\n",
       "ackdat              -0.117838\n",
       "rate                -0.118885\n",
       "dttl                -0.145606\n",
       "state               -0.238618\n",
       "id                  -0.272339\n",
       "sttl                -0.275065\n",
       "ct_state_ttl        -0.302406\n",
       "label               -0.581224\n",
       "Name: attack_cat, dtype: float64"
      ]
     },
     "execution_count": 18,
     "metadata": {
      "tags": []
     },
     "output_type": "execute_result"
    }
   ],
   "source": [
    "corr_matrix['attack_cat'].sort_values(ascending=False)"
   ]
  },
  {
   "cell_type": "code",
   "execution_count": 19,
   "metadata": {
    "colab": {
     "base_uri": "https://localhost:8080/"
    },
    "id": "Jd5VnrZCkck3",
    "outputId": "99d84ca0-ea9f-4738-ab31-28bb746490c5"
   },
   "outputs": [
    {
     "data": {
      "text/plain": [
       "(175341, 45)"
      ]
     },
     "execution_count": 19,
     "metadata": {
      "tags": []
     },
     "output_type": "execute_result"
    }
   ],
   "source": [
    "##pipeline creation\n",
    "\n",
    "from sklearn.pipeline import Pipeline\n",
    "from sklearn.impute import SimpleImputer\n",
    "from sklearn.preprocessing import StandardScaler\n",
    "my_pipe = Pipeline([\n",
    "    ('imputer', SimpleImputer(strategy=\"median\")),\n",
    "    ('std_scaler', StandardScaler()),\n",
    "])\n",
    "\n",
    "##Numpy array output \n",
    "ds_num = my_pipe.fit_transform(ds)\n",
    "ds_num.shape"
   ]
  },
  {
   "cell_type": "code",
   "execution_count": 20,
   "metadata": {
    "id": "VFfGJIQ9kwSP"
   },
   "outputs": [],
   "source": [
    "## import for model\n",
    "from sklearn.ensemble import AdaBoostClassifier\n",
    "from sklearn import metrics\n",
    "from sklearn.preprocessing import normalize\n",
    "from sklearn.model_selection import cross_val_score\n",
    "from sklearn.model_selection import KFold\n",
    "from sklearn.model_selection import RandomizedSearchCV"
   ]
  },
  {
   "cell_type": "code",
   "execution_count": 21,
   "metadata": {
    "id": "Ezh7bGLRk1uM"
   },
   "outputs": [],
   "source": [
    "##prepare for training\n",
    "x = ds.drop('attack_cat', axis = 1)\n",
    "Y_train = ds['attack_cat'].copy()\n",
    "\n",
    "X_train =my_pipe.fit_transform(x)\n",
    "#X = normalize(x)\n",
    "\n",
    "x_test = test_set.drop('attack_cat', axis=1)\n",
    "X_test = my_pipe.fit_transform(x_test)\n",
    "#X_test=normalize(x_test)\n",
    "y_test = test_set['attack_cat'].copy()"
   ]
  },
  {
   "cell_type": "code",
   "execution_count": 22,
   "metadata": {
    "colab": {
     "base_uri": "https://localhost:8080/"
    },
    "id": "d_eJvd3YlTuD",
    "outputId": "5779f4ce-435f-4115-88bc-709648bb88fa"
   },
   "outputs": [
    {
     "name": "stdout",
     "output_type": "stream",
     "text": [
      "Accuracy: 0.759971 (0.020)\n"
     ]
    }
   ],
   "source": [
    "##classifier onj\n",
    "##n_estimators is number of weak learners to train iteratively\n",
    "##learning_rate is weight of weak learners\n",
    "abcModel = AdaBoostClassifier(n_estimators=50, random_state=1)\n",
    "cv = KFold(n_splits=10, shuffle=True, random_state=1)\n",
    "n_scores=cross_val_score(abcModel, X_train, Y_train, scoring='accuracy', cv=cv, n_jobs=1, error_score='raise')\n",
    "print('Accuracy: %3f (%.3f)' % (np.mean(n_scores), np.std(n_scores)))"
   ]
  },
  {
   "cell_type": "code",
   "execution_count": 24,
   "metadata": {
    "colab": {
     "base_uri": "https://localhost:8080/"
    },
    "id": "n5E8dG5qm3Kj",
    "outputId": "018f1f63-3856-42f5-b2eb-f6360c6a2c9f"
   },
   "outputs": [
    {
     "data": {
      "text/plain": [
       "AdaBoostClassifier(algorithm='SAMME.R', base_estimator=None, learning_rate=1.0,\n",
       "                   n_estimators=50, random_state=1)"
      ]
     },
     "execution_count": 24,
     "metadata": {
      "tags": []
     },
     "output_type": "execute_result"
    }
   ],
   "source": [
    "abcModel.fit(X_train, Y_train)"
   ]
  },
  {
   "cell_type": "code",
   "execution_count": 25,
   "metadata": {
    "id": "uDoFfyCXleos"
   },
   "outputs": [],
   "source": [
    "y_pred = abcModel.predict(X_test)"
   ]
  },
  {
   "cell_type": "code",
   "execution_count": 27,
   "metadata": {
    "colab": {
     "base_uri": "https://localhost:8080/"
    },
    "id": "9grhtpGBls89",
    "outputId": "93ffe5d9-6516-479d-c63f-aa1b40eda753"
   },
   "outputs": [
    {
     "name": "stdout",
     "output_type": "stream",
     "text": [
      "              precision    recall  f1-score   support\n",
      "\n",
      "           0       0.05      0.46      0.10       393\n",
      "           1       0.00      0.00      0.00       360\n",
      "           2       0.24      0.04      0.07      2370\n",
      "           3       0.67      0.56      0.61      6772\n",
      "           4       0.46      0.62      0.53      3570\n",
      "           5       0.92      0.88      0.90      8079\n",
      "           6       1.00      1.00      1.00     11169\n",
      "           7       0.49      0.44      0.46      2098\n",
      "           8       0.00      0.00      0.00       233\n",
      "           9       0.00      0.00      0.00        25\n",
      "\n",
      "    accuracy                           0.73     35069\n",
      "   macro avg       0.38      0.40      0.37     35069\n",
      "weighted avg       0.75      0.73      0.73     35069\n",
      "\n"
     ]
    },
    {
     "name": "stderr",
     "output_type": "stream",
     "text": [
      "/usr/local/lib/python3.7/dist-packages/sklearn/metrics/_classification.py:1272: UndefinedMetricWarning: Precision and F-score are ill-defined and being set to 0.0 in labels with no predicted samples. Use `zero_division` parameter to control this behavior.\n",
      "  _warn_prf(average, modifier, msg_start, len(result))\n"
     ]
    }
   ],
   "source": [
    "print(metrics.classification_report(y_test, y_pred))"
   ]
  },
  {
   "cell_type": "markdown",
   "metadata": {
    "id": "wSs4UnCEqa6D"
   },
   "source": [
    "![image.png](data:image/png;base64,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)"
   ]
  },
  {
   "cell_type": "code",
   "execution_count": 28,
   "metadata": {
    "colab": {
     "base_uri": "https://localhost:8080/"
    },
    "id": "41XawQOelu5f",
    "outputId": "30ff36a4-75f4-477a-aa2c-0ab4b8d0938d"
   },
   "outputs": [
    {
     "name": "stdout",
     "output_type": "stream",
     "text": [
      "[[  181     0     5   121    36    43     0     7     0     0]\n",
      " [  179     0    12    92    25    36     0    16     0     0]\n",
      " [ 1077     0    90   572   315   222     0    94     0     0]\n",
      " [ 1484     0   201  3783   618   207     0   479     0     0]\n",
      " [  148     0    15   852  2229    66     0   260     0     0]\n",
      " [   11     0    25    93   796  7145     0     9     0     0]\n",
      " [    0     0     0     0     0     0 11169     0     0     0]\n",
      " [  233     0    28    66   819    34     0   918     0     0]\n",
      " [    0     0     0    69    55     3     0   106     0     0]\n",
      " [    0     0     0    23     2     0     0     0     0     0]]\n"
     ]
    }
   ],
   "source": [
    "##confusion matrix\n",
    "cm = metrics.confusion_matrix(y_test, y_pred)\n",
    "print(cm)"
   ]
  },
  {
   "cell_type": "code",
   "execution_count": 29,
   "metadata": {
    "colab": {
     "base_uri": "https://localhost:8080/",
     "height": 283
    },
    "id": "LnTIR7Eml1Zk",
    "outputId": "b3fe3d62-f47b-48f7-f417-8d4b406093ab"
   },
   "outputs": [
    {
     "data": {
      "text/plain": [
       "<matplotlib.axes._subplots.AxesSubplot at 0x7f9cf51f6ed0>"
      ]
     },
     "execution_count": 29,
     "metadata": {
      "tags": []
     },
     "output_type": "execute_result"
    },
    {
     "data": {
      "image/png": "[encoded data removed]",
      "text/plain": [
       "<Figure size 432x288 with 2 Axes>"
      ]
     },
     "metadata": {
      "needs_background": "light",
      "tags": []
     },
     "output_type": "display_data"
    }
   ],
   "source": [
    "import seaborn as sns \n",
    "sns.heatmap(cm)"
   ]
  },
  {
   "cell_type": "markdown",
   "metadata": {
    "id": "VYw2Lr4QqVYs"
   },
   "source": [
    "![image.png](data:image/png;base64,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)"
   ]
  },
  {
   "cell_type": "code",
   "execution_count": null,
   "metadata": {
    "id": "gDMGLEidl2Q2"
   },
   "outputs": [],
   "source": []
  }
 ],
 "metadata": {
  "colab": {
   "name": "NIS proj rev 1.ipynb",
   "provenance": []
  },
  "kernelspec": {
   "display_name": "Python 3",
   "language": "python",
   "name": "python3"
  },
  "language_info": {
   "codemirror_mode": {
    "name": "ipython",
    "version": 3
   },
   "file_extension": ".py",
   "mimetype": "text/x-python",
   "name": "python",
   "nbconvert_exporter": "python",
   "pygments_lexer": "ipython3",
   "version": "3.7.6"
  }
 },
 "nbformat": 4,
 "nbformat_minor": 1
}
